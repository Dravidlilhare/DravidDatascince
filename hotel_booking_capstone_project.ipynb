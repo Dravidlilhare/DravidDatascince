{
  "nbformat": 4,
  "nbformat_minor": 0,
  "metadata": {
    "colab": {
      "private_outputs": true,
      "provenance": [],
      "collapsed_sections": [
        "bKJF3rekwFvQ",
        "MSa1f5Uengrz",
        "K5QZ13OEpz2H",
        "lQ7QKXXCp7Bj",
        "448CDAPjqfQr",
        "t6dVpIINYklI",
        "ijmpgYnKYklI",
        "-JiQyfWJYklI",
        "fge-S5ZAYoAp",
        "85gYPyotYoAp",
        "RoGjAbkUYoAp",
        "iky9q4vBYrdO",
        "F6T5p64dYrdO",
        "y-Ehk30pYrdP",
        "QHF8YVU7Yuh3",
        "GwzvFGzlYuh3",
        "qYpmQ266Yuh3",
        "bbFf2-_FphqN",
        "_ouA3fa0phqN",
        "Seke61FWphqN",
        "t27r6nlMphqO",
        "r2jJGEOYphqO",
        "b0JNsNcRphqO",
        "jj7wYXLtphqO",
        "eZrbJ2SmphqO",
        "rFu4xreNphqO",
        "gCFgpxoyphqP",
        "OVtJsKN_phqQ",
        "lssrdh5qphqQ",
        "1M8mcRywphqQ",
        "tgIPom80phqQ",
        "JMzcOPDDphqR",
        "X_VqEhTip1ck",
        "8zGJKyg5p1ck",
        "UV0SzAkaZNRQ",
        "YPEH6qLeZNRQ",
        "gIfDvo9L0UH2"
      ],
      "include_colab_link": true
    },
    "kernelspec": {
      "name": "python3",
      "display_name": "Python 3"
    },
    "language_info": {
      "name": "python"
    }
  },
  "cells": [
    {
      "cell_type": "markdown",
      "metadata": {
        "id": "view-in-github",
        "colab_type": "text"
      },
      "source": [
        "<a href=\"https://colab.research.google.com/github/Dravidlilhare/DravidDatascince/blob/main/hotel_booking_capstone_project.ipynb\" target=\"_parent\"><img src=\"https://colab.research.google.com/assets/colab-badge.svg\" alt=\"Open In Colab\"/></a>"
      ]
    },
    {
      "cell_type": "markdown",
      "source": [
        "# **Project Name**    - \n",
        "\n"
      ],
      "metadata": {
        "id": "vncDsAP0Gaoa"
      }
    },
    {
      "cell_type": "markdown",
      "source": [
        "##### **Project Type**    - EDA (Exploratory Data Analysis)\n",
        "##### **Contribution**    - Individual\n",
        "##### **Team Member 1 -**  Dravidkumar Lilhare\n"
      ],
      "metadata": {
        "id": "beRrZCGUAJYm"
      }
    },
    {
      "cell_type": "markdown",
      "source": [
        "# **Project Summary -**"
      ],
      "metadata": {
        "id": "FJNUwmbgGyua"
      }
    },
    {
      "cell_type": "markdown",
      "source": [
        "The hotel industry is a highly competitive and dynamic industry where demand and supply patterns constantly fluctuate. As such, hotel operators must be able to adapt and make informed decisions based on current market trends and customer behaviour. In this project, an exploratory data analysis (EDA) was conducted on a dataset of hotel bookings to gain insights into booking patterns, customer demographics and preferences, and the effectiveness of different distribution channels.\n",
        "\n",
        "The dataset used in this project is publicly available and contains information on hotel bookings from two hotels: a resort hotel and a city hotel. The data includes information such as booking dates, customer demographics, booking channels, room types, and the number of stays.\n",
        "\n",
        "The EDA conducted in this project revealed several key insights that can be used to inform business decisions. For instance, the analysis of booking patterns and cancellations can help operators adjust their pricing and cancellation policies to optimize revenue. The analysis of customer demographics and preferences can help operators tailor their marketing efforts to reach their target audience effectively. Additionally, the analysis of distribution channels can help operators identify which channels are most effective in generating bookings and allocate resources accordingly.\n",
        "\n",
        "Overall, this project provides valuable insights into the hotel industry and highlights the importance of data-driven decision making in a competitive market.The dataset used for this project is available [here](https://drive.google.com/file/d/1C9AxF9fcVzMw0Bgs0NaRrNML2WwX1Ehm/view)\n",
        "\n",
        "video for this project:-[here](https://www.canva.com/design/DAFdEWfd7uc/X5hi2JZFu50RdRsoUJipfw/view?utm_content=DAFdEWfd7uc&utm_campaign=designshare&utm_medium=link&utm_source=homepage_design_menu)\n",
        "\n",
        "\n",
        "\n",
        "\n",
        "\n"
      ],
      "metadata": {
        "id": "F6v_1wHtG2nS"
      }
    },
    {
      "cell_type": "markdown",
      "source": [
        "# **GitHub Link -**"
      ],
      "metadata": {
        "id": "w6K7xa23Elo4"
      }
    },
    {
      "cell_type": "markdown",
      "source": [
        "https://github.com/Dravidlilhare/DravidDatascince"
      ],
      "metadata": {
        "id": "h1o69JH3Eqqn"
      }
    },
    {
      "cell_type": "markdown",
      "source": [
        "# **Problem Statement**\n"
      ],
      "metadata": {
        "id": "yQaldy8SH6Dl"
      }
    },
    {
      "cell_type": "markdown",
      "source": [
        "Have you ever wondered when the best time of year to book a hotel room is? Or the optimal length of stay in order to get the best daily rate? What if you wanted to predict whether or not a hotel was likely to receive a disproportionately high number of special requests? This hotel booking dataset can help you explore those questions! This data set contains booking information for a city hotel and a resort hotel, and includes information such as when the booking was made, length of stay, the number of adults, children, and/or babies, and the number of available parking spaces, among other things. All personally identifying information has been removed from the data. Explore and analyse the data to discover important factors that govern the bookings."
      ],
      "metadata": {
        "id": "DpeJGUA3kjGy"
      }
    },
    {
      "cell_type": "markdown",
      "source": [
        "#### **Define Your Business Objective?**"
      ],
      "metadata": {
        "id": "PH-0ReGfmX4f"
      }
    },
    {
      "cell_type": "markdown",
      "source": [
        "The business objectives that this project tries to achieve are\n",
        "\n",
        "*   To gain a comprehensive understanding of booking patterns and customer behavior\n",
        "*   nderstand which amenities and services are most popular among guests\n",
        "*   Determine key drivers of occupancy, revenue, and customer \n",
        "*   Form strategies for increasing occupancy, revenue and customer satisfaction.\n",
        "\n"
      ],
      "metadata": {
        "id": "PhDvGCAqmjP1"
      }
    },
    {
      "cell_type": "markdown",
      "source": [
        "# **General Guidelines** : -  "
      ],
      "metadata": {
        "id": "mDgbUHAGgjLW"
      }
    },
    {
      "cell_type": "markdown",
      "source": [
        "1.   Well-structured, formatted, and commented code is required. \n",
        "2.   Exception Handling, Production Grade Code & Deployment Ready Code will be a plus. Those students will be awarded some additional credits. \n",
        "     \n",
        "     The additional credits will have advantages over other students during Star Student selection.\n",
        "       \n",
        "             [ Note: - Deployment Ready Code is defined as, the whole .ipynb notebook should be executable in one go\n",
        "                       without a single error logged. ]\n",
        "\n",
        "3.   Each and every logic should have proper comments.\n",
        "4. You may add as many number of charts you want. Make Sure for each and every chart the following format should be answered.\n",
        "        \n",
        "\n",
        "```\n",
        "# Chart visualization code\n",
        "```\n",
        "            \n",
        "\n",
        "*   Why did you pick the specific chart?\n",
        "*   What is/are the insight(s) found from the chart?\n",
        "* Will the gained insights help creating a positive business impact? \n",
        "Are there any insights that lead to negative growth? Justify with specific reason.\n",
        "\n",
        "5. You have to create at least 20 logical & meaningful charts having important insights.\n",
        "\n",
        "\n",
        "[ Hints : - Do the Vizualization in  a structured way while following \"UBM\" Rule. \n",
        "\n",
        "U - Univariate Analysis,\n",
        "\n",
        "B - Bivariate Analysis (Numerical - Categorical, Numerical - Numerical, Categorical - Categorical)\n",
        "\n",
        "M - Multivariate Analysis\n",
        " ]\n",
        "\n",
        "\n",
        "\n"
      ],
      "metadata": {
        "id": "ZrxVaUj-hHfC"
      }
    },
    {
      "cell_type": "markdown",
      "source": [
        "# ***Let's Begin !***"
      ],
      "metadata": {
        "id": "O_i_v8NEhb9l"
      }
    },
    {
      "cell_type": "markdown",
      "source": [
        "## ***1. Know Your Data***"
      ],
      "metadata": {
        "id": "HhfV-JJviCcP"
      }
    },
    {
      "cell_type": "markdown",
      "source": [
        "### Import Libraries"
      ],
      "metadata": {
        "id": "Y3lxredqlCYt"
      }
    },
    {
      "cell_type": "code",
      "source": [
        "# Import Libraries\n",
        "import numpy as np\n",
        "import pandas as pd\n",
        "import matplotlib.pyplot as plt\n",
        "%matplotlib inline\n",
        "import seaborn as sns\n",
        "import folium\n",
        "import plotly.express as px\n"
      ],
      "metadata": {
        "id": "M8Vqi-pPk-HR"
      },
      "execution_count": null,
      "outputs": []
    },
    {
      "cell_type": "markdown",
      "source": [
        "### Dataset Loading"
      ],
      "metadata": {
        "id": "3RnN4peoiCZX"
      }
    },
    {
      "cell_type": "code",
      "source": [
        "from google.colab import drive\n",
        "drive.mount('/content/drive')\n"
      ],
      "metadata": {
        "id": "KFp3CKpk3TYE"
      },
      "execution_count": null,
      "outputs": []
    },
    {
      "cell_type": "markdown",
      "source": [
        "### Dataset First View"
      ],
      "metadata": {
        "id": "x71ZqKXriCWQ"
      }
    },
    {
      "cell_type": "code",
      "source": [
        "# Dataset First Look\n",
        "# Try to load dataset if it is on local directory\n",
        "try:\n",
        "    df = pd.read_csv(\"Hotel Bookings.csv\")\n",
        "# Else mount and load from google drive - Only for google colab\n",
        "except:\n",
        "    from google.colab import drive\n",
        "    drive.mount('/content/drive')\n",
        "    df=pd.read_csv('/content/drive/MyDrive/almabetter_project/Hotel Bookings.csv')\n",
        "\n"
      ],
      "metadata": {
        "id": "LWNFOSvLl09H"
      },
      "execution_count": null,
      "outputs": []
    },
    {
      "cell_type": "code",
      "source": [
        "df.head(6).T  #dataset top rows"
      ],
      "metadata": {
        "id": "PgcMSmxhlMHc"
      },
      "execution_count": null,
      "outputs": []
    },
    {
      "cell_type": "code",
      "source": [
        "#Dataset first look :- bottom 5 rows\n",
        "df.tail(6).T"
      ],
      "metadata": {
        "id": "NHfvPa4AF-Ps"
      },
      "execution_count": null,
      "outputs": []
    },
    {
      "cell_type": "markdown",
      "source": [
        "### Dataset Rows & Columns count"
      ],
      "metadata": {
        "id": "7hBIi_osiCS2"
      }
    },
    {
      "cell_type": "code",
      "source": [
        "# Dataset Rows & Columns count\n",
        "\n",
        "\n",
        "try:\n",
        "  print(f\"Number of Rows: {df.shape[0]} \\nNumber of Columns:- {df.shape[1]}\")\n",
        "except:\n",
        "  total_rows=len(df.axes[0]) # Axes of 0 is for a row\n",
        "  total_cols=len(df.axes[1]) # Axes of 0 is for a column\n",
        "  print(f\"Number of Rows: {total_rows} \\nNumber of Columns:- {total_cols}\")\n"
      ],
      "metadata": {
        "id": "Kllu7SJgmLij"
      },
      "execution_count": null,
      "outputs": []
    },
    {
      "cell_type": "markdown",
      "source": [
        "### Dataset Information"
      ],
      "metadata": {
        "id": "JlHwYmJAmNHm"
      }
    },
    {
      "cell_type": "code",
      "source": [
        "# Dataset Info\n",
        "df.info()"
      ],
      "metadata": {
        "id": "e9hRXRi6meOf"
      },
      "execution_count": null,
      "outputs": []
    },
    {
      "cell_type": "markdown",
      "source": [
        "#### Duplicate Values"
      ],
      "metadata": {
        "id": "35m5QtbWiB9F"
      }
    },
    {
      "cell_type": "code",
      "source": [
        "# Dataset Duplicate Value Count\n",
        "try:\n",
        "    duplicate_rows = df[df.duplicated()]\n",
        "    percent_duplicates = round(len(duplicate_rows) * 100 / df.shape[0], 3) # Round the percentage to 3 decimal places\n",
        "    print(f\"Total duplicate rows in dataset: {percent_duplicates} %\")\n",
        "\n",
        "    # dropping the duplicates to clean data and reset index\n",
        "    df1 = df.drop_duplicates().reset_index(drop=True)\n",
        "    print(f\"After dropping duplicate values new dataset shape: {df.shape[0]}\")\n",
        "except Exception as e:\n",
        "    print(\"An error occurred while processing the data:\", e)\n"
      ],
      "metadata": {
        "id": "uzXjU9HYdvmY"
      },
      "execution_count": null,
      "outputs": []
    },
    {
      "cell_type": "markdown",
      "source": [
        "#### Missing Values/Null Values"
      ],
      "metadata": {
        "id": "PoPl-ycgm1ru"
      }
    },
    {
      "cell_type": "code",
      "source": [
        "# Missing Values/Null Values Count\n",
        "missing_value=df1.isnull().sum()\n",
        "Null_Value=missing_value[missing_value>0]  # print only those columns which values are more than 0\n",
        "print(Null_Value)\n",
        "print(f'\\nTotal Null Values in Dataset is {Null_Value.sum()}')\n",
        "\n",
        "\n",
        "# missing_value_count=(missing_value.sum()).sum()\n",
        "# print(\"Total Null Value is :- \",missing_value_count,'\\n')\n",
        "# missing_value.sum()\n",
        "# # df.fillna(np.NaN, inplace=True)\n",
        "# df"
      ],
      "metadata": {
        "id": "GgHWkxvamxVg"
      },
      "execution_count": null,
      "outputs": []
    },
    {
      "cell_type": "markdown",
      "source": [
        "There may be null values in the company and agent columns of the dataset when customers book hotels directly or through other platforms without a specific agent or company. This should be considered when analyzing the data."
      ],
      "metadata": {
        "id": "pr6NZaKJF_OJ"
      }
    },
    {
      "cell_type": "code",
      "source": [
        "from pandas.core.indexes.multi import names_compat\n",
        "# Visualizing the missing value\n",
        "null_value_percent=(Null_Value*100/Null_Value.sum()).round(3)\n",
        "values=dict(null_value_percent)\n",
        "# Get the categories and values as separate lists\n",
        "categories = list(values.keys())\n",
        "values_list = list(values.values())\n",
        "\n",
        "# Create a bar chart using Matplotlib\n",
        "plt.bar(categories, values_list)\n",
        "\n",
        "\n",
        "# Add text labels for the values\n",
        "for i, value in enumerate(values_list):\n",
        "    plt.text(i, value, f\"{value:.2f}\", ha=\"center\", va=\"bottom\")\n",
        "# Add a title and axis labels\n",
        "plt.title('Null Value in Dataset')\n",
        "plt.xlabel('Categories')\n",
        "plt.ylabel('Values')\n",
        "# Show the chart\n",
        "plt.show()\n"
      ],
      "metadata": {
        "id": "3q5wnI3om9sJ"
      },
      "execution_count": null,
      "outputs": []
    },
    {
      "cell_type": "markdown",
      "source": [
        "refill null values with new value 0 to form new database\n"
      ],
      "metadata": {
        "id": "vN_t9RgJqgvT"
      }
    },
    {
      "cell_type": "code",
      "source": [
        "#creating new dataset after cleaning data \n",
        "df2=df1.fillna(value=0)"
      ],
      "metadata": {
        "id": "cMe46-GHkNVJ"
      },
      "execution_count": null,
      "outputs": []
    },
    {
      "cell_type": "code",
      "source": [
        "#now check either null value is there or replaced\n",
        "df2.isnull().sum()"
      ],
      "metadata": {
        "id": "BrLpG7k7CIJI"
      },
      "execution_count": null,
      "outputs": []
    },
    {
      "cell_type": "markdown",
      "source": [
        "### What did you know about your dataset?"
      ],
      "metadata": {
        "id": "H0kj-8xxnORC"
      }
    },
    {
      "cell_type": "markdown",
      "source": [
        "This data set is a valuable resource for conducting in-depth analyses of hotel booking trends and patterns, such as peak booking periods and the most popular room types. Moreover, it can assist in optimizing hotel operations, including staffing levels and resource allocation.Through meticulous analysis, this data set can provide valuable insights into the hotel industry, enabling business leaders to make informed decisions"
      ],
      "metadata": {
        "id": "gfoNAAC-nUe_"
      }
    },
    {
      "cell_type": "markdown",
      "source": [
        "## ***2. Understanding Your Variables***"
      ],
      "metadata": {
        "id": "nA9Y7ga8ng1Z"
      }
    },
    {
      "cell_type": "code",
      "source": [
        "# Dataset Columns\n",
        "df2.columns"
      ],
      "metadata": {
        "id": "j7xfkqrt5Ag5"
      },
      "execution_count": null,
      "outputs": []
    },
    {
      "cell_type": "code",
      "source": [
        "# Dataset Describe\n",
        "df2.describe().T"
      ],
      "metadata": {
        "id": "DnOaZdaE5Q5t"
      },
      "execution_count": null,
      "outputs": []
    },
    {
      "cell_type": "markdown",
      "source": [
        "### Variables Description "
      ],
      "metadata": {
        "id": "PBTbrJXOngz2"
      }
    },
    {
      "cell_type": "markdown",
      "source": [
        "# Description of individual Variable\n",
        "\n",
        "hotel : Name of the hotel (Resort Hotel or City Hotel)\n",
        "\n",
        "is_canceled : If the booking was canceled (1) or not (0)\n",
        "\n",
        "lead_time: Number of days before the actual arrival of the guests\n",
        "\n",
        "arrival_date_year : Year of arrival date\n",
        "\n",
        "arrival_date_month : Month of month arrival date\n",
        "\n",
        "arrival_date_week_number : Week number of year for arrival date\n",
        "\n",
        "arrival_date_day_of_month : Day of arrival date\n",
        "\n",
        "stays_in_weekend_nights : Number of weekend nights (Saturday or Sunday) spent at the hotel by the guests.\n",
        "\n",
        "stays_in_week_nights : Number of weeknights (Monday to Friday) spent at the hotel by the guests.\n",
        "\n",
        "adults : Number of adults among guests\n",
        "\n",
        "children : Number of children among guests\n",
        "\n",
        "babies : Number of babies among guests\n",
        "\n",
        "meal : Type of meal booked\n",
        "\n",
        "country : Country of guests\n",
        "\n",
        "market_segment : Designation of market segment\n",
        "\n",
        "distribution_channel : Name of booking distribution channel\n",
        "[4:31 pm, 13/03/2023] .aditya Almabetter: is_repeated_guest : If the booking was from a repeated guest (1) or not (0)\n",
        "\n",
        "previous_cancellations : Number of previous bookings that were cancelled by the customer prior to the current booking\n",
        "\n",
        "previous_bookings_not_canceled : Number of previous bookings not cancelled by the customer prior to the current booking\n",
        "\n",
        "reserved_room_type : Code of room type reserved\n",
        "\n",
        "assigned_room_type : Code of room type assigned\n",
        "\n",
        "booking_changes : Number of changes/amendments made to the booking\n",
        "\n",
        "deposit_type : Type of the deposit made by the guest\n",
        "\n",
        "agent : ID of travel agent who made the booking\n",
        "\n",
        "company : ID of the company that made the booking\n",
        "\n",
        "days_in_waiting_list : Number of days the booking was in the waiting list\n",
        "\n",
        "customer_type : Type of customer, assuming one of four categories\n",
        "\n",
        "adr : Average Daily Rate, as defined by dividing the sum of all lodging transactions by the total number of staying nights\n",
        "\n",
        "required_car_parking_spaces : Number of car parking spaces required by the customer\n",
        "\n",
        "total_of_special_requests : Number of special requests made by the customer\n",
        "\n",
        "reservation_status : Reservation status (Canceled, Check-Out or No-Show)\n",
        "\n",
        "reservation_status_date : Date at which the last reservation status was updated"
      ],
      "metadata": {
        "id": "aJV4KIxSnxay"
      }
    },
    {
      "cell_type": "markdown",
      "source": [
        "### Check Unique Values for each variable."
      ],
      "metadata": {
        "id": "u3PMJOP6ngxN"
      }
    },
    {
      "cell_type": "code",
      "source": [
        "# Check Unique Values for each variable.\n",
        "# df1_unique=df1[df1<13].index\n",
        "# for column in df1_unique:\n",
        "#   print(f\"unique values in {column} : \",df1[column].unique())\n",
        "# df1.columns.sorted_values()df.B.unique()\n",
        "\n",
        "\n",
        "# Check Unique Values for each variable.\n",
        "df_1_unique = df2.nunique().sort_values()\n",
        "# Print only unique values that are less than 13 \n",
        "unique_8 = df_1_unique[df_1_unique < 13].index\n",
        "for column in unique_8:\n",
        "  print(f'Unique values in {column:25} :',df1[column].unique())"
      ],
      "metadata": {
        "id": "zms12Yq5n-jE"
      },
      "execution_count": null,
      "outputs": []
    },
    {
      "cell_type": "markdown",
      "source": [
        "## 3. ***Data Wrangling***"
      ],
      "metadata": {
        "id": "dauF4eBmngu3"
      }
    },
    {
      "cell_type": "markdown",
      "source": [
        "### Data Wrangling Code"
      ],
      "metadata": {
        "id": "bKJF3rekwFvQ"
      }
    },
    {
      "cell_type": "code",
      "source": [
        "#Write your code to make your dataset analysis ready.\n",
        "# To check the distribution of data points we can use a countplot\n",
        "\n",
        "# Converting the date column in 'df1' to a datetime data type using pd.to_datetime() function.\n",
        "df2['reservation_status_date'] = pd.to_datetime(df1['reservation_status_date'])\n",
        "\n",
        "# Count the number of values by date\n",
        "counts = df2['reservation_status_date'].value_counts()\n",
        "\n",
        "# Set the figure size\n",
        "plt.figure(figsize=(10, 6))\n",
        "\n",
        "# Limit the x axis for better visualization\n",
        "plt.xlim(pd.Timestamp('2014-10-17'), pd.Timestamp('2017-09-14'))\n",
        "\n",
        "# Plot the bar plot\n",
        "plt.bar(counts.index, counts.values)\n",
        "plt.show()"
      ],
      "metadata": {
        "id": "wk-9a2fpoLcV"
      },
      "execution_count": null,
      "outputs": []
    },
    {
      "cell_type": "markdown",
      "source": [
        "Based on the observed plot, it is apparent that the dataset contains limited data points before the date of May 1, 2015. Inclusion of such data points may lead to a potential bias in our analysis. Therefore, we have decided to only consider the data from May 1, 2015, up to the last date of booking in the dataset which is September 14, 2017."
      ],
      "metadata": {
        "id": "1YRZjeHHVBA6"
      }
    },
    {
      "cell_type": "code",
      "source": [
        "# cut the rows of dataset where reservation date is older than 2015-05-01 \n",
        "ds=df2[(df2['reservation_status_date']>pd.Timestamp('2015-05-01'))&((df2['reservation_status_date']<pd.Timestamp('2017-09-14')))].reset_index(drop = True)\n"
      ],
      "metadata": {
        "id": "vlHs4JIhWLzV"
      },
      "execution_count": null,
      "outputs": []
    },
    {
      "cell_type": "code",
      "source": [
        "# Visualizing the new selection of data points\n",
        "# Get the counts\n",
        "counts = ds['reservation_status_date'].value_counts()\n",
        "\n",
        "# Set the figure size\n",
        "plt.figure(figsize=(10, 6))\n",
        "\n",
        "# Plot the bar plot\n",
        "plt.bar(counts.index, counts.values)\n",
        "plt.show()"
      ],
      "metadata": {
        "id": "VodTuZFqWo0h"
      },
      "execution_count": null,
      "outputs": []
    },
    {
      "cell_type": "markdown",
      "source": [
        "### What all manipulations have you done and insights you found?"
      ],
      "metadata": {
        "id": "MSa1f5Uengrz"
      }
    },
    {
      "cell_type": "markdown",
      "source": [
        "1:- 26.7978% of values in dataframe was an duplicate so we drop that values\n",
        "\n",
        "2:- 'company','agent','country','Children' columns are missing 93.983%, 3.951%,  0.517%, 0.005% of data repectively\n",
        "\n",
        "3:-Data points seems to be missing before 2015-05-01. Hence the data before the same is excluded from analysis.\n"
      ],
      "metadata": {
        "id": "LbyXE7I1olp8"
      }
    },
    {
      "cell_type": "code",
      "source": [
        "print('shape of the dataset before manipulating  :',df.shape)\n",
        "print('Shape of the dataset after cleaning :',ds.shape)"
      ],
      "metadata": {
        "id": "9l2w7CZyWioi"
      },
      "execution_count": null,
      "outputs": []
    },
    {
      "cell_type": "code",
      "source": [
        "# Adding total staying days in hotels\n",
        "ds['total_stay'] = ds['stays_in_weekend_nights']+ds['stays_in_week_nights']\n",
        "\n",
        "# Adding total people num as column, i.e. total people num = num of adults + children + babies\n",
        "ds['total_people'] = ds['adults']+ds['children']+ds['babies']"
      ],
      "metadata": {
        "id": "AttHE68wdr_f"
      },
      "execution_count": null,
      "outputs": []
    },
    {
      "cell_type": "markdown",
      "source": [
        "## ***4. Data Vizualization, Storytelling & Experimenting with charts : Understand the relationships between variables***"
      ],
      "metadata": {
        "id": "GF8Ens_Soomf"
      }
    },
    {
      "cell_type": "markdown",
      "source": [
        "#### Chart - 1"
      ],
      "metadata": {
        "id": "0wOQAZs5pc--"
      }
    },
    {
      "cell_type": "code",
      "source": [
        "# Chart - 1 visualization code\n",
        "# Select only the rows where is_canceled == 0 (i.e., the booking was not canceled), and count the number of guests from each country\n",
        "country_wise_guests = ds[ds['is_canceled'] == 0]['country'].value_counts().reset_index()\n",
        "\n",
        "# Rename the columns to make the output more readable\n",
        "country_wise_guests.columns = ['country', 'No of guests']\n",
        "\n",
        "# The resulting DataFrame, country_wise_guests, now contains the number of guests from each country\n",
        "# that made a successful booking and did not cancel their reservation\n",
        "country_wise_guests.head(11)\n"
      ],
      "metadata": {
        "id": "Itv68nVpexD6"
      },
      "execution_count": null,
      "outputs": []
    },
    {
      "cell_type": "code",
      "source": [
        "# Create a new basemap using Folium\n",
        "basemap = folium.Map()\n",
        "\n",
        "# Use Plotly Express to create a choropleth map of the number of guests from each country\n",
        "# The 'locations' argument specifies the country codes for the map\n",
        "# The 'color' argument specifies the number of guests from each country\n",
        "# The 'hover_name' argument specifies the country names for the hover information\n",
        "guests_map = px.choropleth(country_wise_guests, locations=country_wise_guests['country'],\n",
        "                           color=country_wise_guests['No of guests'], hover_name=country_wise_guests['country'])\n",
        "\n",
        "# Display the choropleth map using the show() function\n",
        "guests_map.show()\n"
      ],
      "metadata": {
        "id": "vFkF_sKXZ8dC"
      },
      "execution_count": null,
      "outputs": []
    },
    {
      "cell_type": "code",
      "source": [
        "grouped_by_country = ds.groupby('country')\n",
        "d1 = pd.DataFrame(grouped_by_country.size()).reset_index().rename(columns = {0:'Count'}).sort_values('Count', ascending = False)[:10]\n",
        "sns.barplot(x = d1['country'], y  = d1['Count'])\n",
        "plt.show()"
      ],
      "metadata": {
        "id": "XFzatX8L888m"
      },
      "execution_count": null,
      "outputs": []
    },
    {
      "cell_type": "markdown",
      "source": [
        "##### 1. Why did you pick the specific chart?"
      ],
      "metadata": {
        "id": "K5QZ13OEpz2H"
      }
    },
    {
      "cell_type": "markdown",
      "source": [
        "The chart is a bar plot that visualizes the top 10 countries with the highest number of bookings in the dataset. It provides a quick and clear overview of which countries are the most important markets for the hotel industry. This information can help businesses focus on these key markets to develop targeted marketing strategies and improve their overall revenue."
      ],
      "metadata": {
        "id": "XESiWehPqBRc"
      }
    },
    {
      "cell_type": "markdown",
      "source": [
        "##### 2. What is/are the insight(s) found from the chart?"
      ],
      "metadata": {
        "id": "lQ7QKXXCp7Bj"
      }
    },
    {
      "cell_type": "markdown",
      "source": [
        "The chart shows the top 10 countries with the highest number of bookings. The insight gained from the chart is that most of the bookings in the dataset are from Portugal, followed by the UK, France, Spain, and Germany. The other countries in the top 10 are Ireland, Italy, the Netherlands, Belgium, and Switzerland."
      ],
      "metadata": {
        "id": "C_j1G7yiqdRP"
      }
    },
    {
      "cell_type": "markdown",
      "source": [
        "##### 3. Will the gained insights help creating a positive business impact? \n",
        "Are there any insights that lead to negative growth? Justify with specific reason."
      ],
      "metadata": {
        "id": "448CDAPjqfQr"
      }
    },
    {
      "cell_type": "markdown",
      "source": [
        "The bar chart shows the top 10 countries with the highest number of bookings. Portugal has the highest number of bookings followed by the UK and Spain. The insight gained can help businesses tailor their marketing and sales strategies to target these high booking countries to increase revenue. However, if the business heavily relies on one or a few countries for bookings, external factors such as economic or political instability in those countries can lead to negative growth."
      ],
      "metadata": {
        "id": "3cspy4FjqxJW"
      }
    },
    {
      "cell_type": "markdown",
      "source": [
        "#### Chart - 2\n",
        "\n",
        "## Average arrival per month"
      ],
      "metadata": {
        "id": "KSlN3yHqYklG"
      }
    },
    {
      "cell_type": "code",
      "source": [
        "# Chart - 2 visualization code\n",
        "colours = [\"red\", \"blue\"]\n",
        "\n",
        "plt.figure(figsize=(12,4))\n",
        "sns.countplot(x='arrival_date_month', hue = 'hotel', data= ds,palette=colours)\n",
        "plt.title('Average Arrival Per Month')\n",
        "plt.show()"
      ],
      "metadata": {
        "id": "R4YgtaqtYklH"
      },
      "execution_count": null,
      "outputs": []
    },
    {
      "cell_type": "markdown",
      "source": [
        "##### 1. Why did you pick the specific chart?"
      ],
      "metadata": {
        "id": "t6dVpIINYklI"
      }
    },
    {
      "cell_type": "markdown",
      "source": [
        "It  provides a clear comparison between the two types of hotels (city and resort) and highlights the busiest and slowest months for each hotel type."
      ],
      "metadata": {
        "id": "5aaW0BYyYklI"
      }
    },
    {
      "cell_type": "markdown",
      "source": [
        "##### 2. What is/are the insight(s) found from the chart?"
      ],
      "metadata": {
        "id": "ijmpgYnKYklI"
      }
    },
    {
      "cell_type": "markdown",
      "source": [
        "The chart shows the average arrival per month for two hotel types (City Hotel and Resort Hotel). The highest number of arrivals was in August for both hotels. Resort Hotel has higher arrivals from May to October, while City Hotel has higher arrivals from November to April. The insights gained from the chart could help the hotel management in making informed decisions about pricing, staffing, and resource allocation during different months of the year."
      ],
      "metadata": {
        "id": "PSx9atu2YklI"
      }
    },
    {
      "cell_type": "markdown",
      "source": [
        "##### 3. Will the gained insights help creating a positive business impact? \n",
        "Are there any insights that lead to negative growth? Justify with specific reason."
      ],
      "metadata": {
        "id": "-JiQyfWJYklI"
      }
    },
    {
      "cell_type": "markdown",
      "source": [
        "The chart shows the average number of arrivals per month by hotel type. It can help in identifying the peak months for each hotel and planning resources accordingly. No negative impact is indicated.\n",
        "\n",
        "\n",
        "\n",
        "\n",
        "\n"
      ],
      "metadata": {
        "id": "BcBbebzrYklV"
      }
    },
    {
      "cell_type": "markdown",
      "source": [
        "#### Chart - 3\n",
        "## How long do people prefer stay at the hotels?"
      ],
      "metadata": {
        "id": "EM7whBJCYoAo"
      }
    },
    {
      "cell_type": "code",
      "source": [
        "# Chart - 3 visualization code\n",
        "filter = ds['is_canceled'] == 0\n",
        "data = ds[filter]\n",
        "data.head()"
      ],
      "metadata": {
        "id": "t6GMdE67YoAp"
      },
      "execution_count": null,
      "outputs": []
    },
    {
      "cell_type": "code",
      "source": [
        "data['total_nights'] = data['stays_in_weekend_nights'] + data['stays_in_week_nights']\n",
        "data.head()"
      ],
      "metadata": {
        "id": "EVnfVbp49zJg"
      },
      "execution_count": null,
      "outputs": []
    },
    {
      "cell_type": "code",
      "source": [
        "stay = data.groupby(['total_nights', 'hotel']).agg('count').reset_index()\n",
        "stay = stay.iloc[:, :3]\n",
        "stay = stay.rename(columns={'hotel':'Number of stays'})\n"
      ],
      "metadata": {
        "id": "PRc-J-nO973C"
      },
      "execution_count": null,
      "outputs": []
    },
    {
      "cell_type": "code",
      "source": [
        "\n",
        "\n",
        "sns.barplot(x='total_nights', y='Number of stays', hue='Number of stays', data=stay)\n",
        "plt.title('Number of stays by hotel and total nights')\n",
        "plt.show()\n",
        "\n",
        "\n",
        "\n"
      ],
      "metadata": {
        "id": "jEBoso-w-CZZ"
      },
      "execution_count": null,
      "outputs": []
    },
    {
      "cell_type": "markdown",
      "source": [
        "##### 1. Why did you pick the specific chart?"
      ],
      "metadata": {
        "id": "fge-S5ZAYoAp"
      }
    },
    {
      "cell_type": "markdown",
      "source": [
        "I picked this chart to visualize the number of stays based on the total number of nights spent by guests in the hotels. This chart can help us understand the booking patterns of guests and their preferences for different types of hotels based on their length of stay."
      ],
      "metadata": {
        "id": "5dBItgRVYoAp"
      }
    },
    {
      "cell_type": "markdown",
      "source": [
        "##### 2. What is/are the insight(s) found from the chart?"
      ],
      "metadata": {
        "id": "85gYPyotYoAp"
      }
    },
    {
      "cell_type": "markdown",
      "source": [
        "The chart shows the number of stays in hotels by the total number of nights stayed, grouped by hotel type. The insights gained from the chart are:\n",
        "\n",
        "Most guests tend to stay for 1-4 nights in both resort and city hotels.\n",
        "The number of stays gradually decreases as the length of stay increases, with a sharp drop in stays for more than 10 nights.\n",
        "Resort hotels tend to have a higher proportion of longer stays compared to city hotels, particularly for stays of 5-8 nights.\n",
        "City hotels tend to have a higher proportion of shorter stays compared to resort hotels, particularly for stays of 1-2 nights."
      ],
      "metadata": {
        "id": "4jstXR6OYoAp"
      }
    },
    {
      "cell_type": "markdown",
      "source": [
        "##### 3. Will the gained insights help creating a positive business impact? \n",
        "Are there any insights that lead to negative growth? Justify with specific reason."
      ],
      "metadata": {
        "id": "RoGjAbkUYoAp"
      }
    },
    {
      "cell_type": "markdown",
      "source": [
        "The insights gained from the chart can help create a positive business impact as it provides information about the duration of stay by customers and the number of stays in each category. The chart shows that customers tend to stay longer in resorts than in city hotels. This insight can help the hotel industry to focus on improving their resort offerings to attract more customers and increase revenue. However, there are no insights in this chart that could lead to negative growth."
      ],
      "metadata": {
        "id": "zfJ8IqMcYoAp"
      }
    },
    {
      "cell_type": "markdown",
      "source": [
        "#### Chart - 4\n",
        "\n",
        "## How does the cost per night change throughout the year?"
      ],
      "metadata": {
        "id": "4Of9eVA-YrdM"
      }
    },
    {
      "cell_type": "code",
      "source": [
        "Resort_datas = ds[(ds['hotel'] == 'Resort Hotel') & (ds['is_canceled'] == 0)]\n",
        "Cities_datas = ds[(ds['hotel'] == 'City Hotel') & (ds['is_canceled'] == 0)]"
      ],
      "metadata": {
        "id": "If5xhu5_C4Wc"
      },
      "execution_count": null,
      "outputs": []
    },
    {
      "cell_type": "markdown",
      "source": [
        "Resort hotel ADR analysis"
      ],
      "metadata": {
        "id": "yVrOxNwuC-GZ"
      }
    },
    {
      "cell_type": "code",
      "source": [
        "Resort_Hotel = Resort_datas.groupby(['arrival_date_month'])['adr'].mean().reset_index()\n",
        "Resort_Hotel"
      ],
      "metadata": {
        "id": "Sroga122C_lZ"
      },
      "execution_count": null,
      "outputs": []
    },
    {
      "cell_type": "code",
      "source": [
        "Date_Month_Hotel = Resort_Hotel['arrival_date_month']\n",
        "Average_Distributed_Rate = Resort_Hotel.groupby('arrival_date_month')['adr'].mean()\n",
        "Overall_Average_Rate = Resort_Hotel['adr'].mean()\n",
        "\n",
        "fig, ax = plt.subplots(figsize=(10, 5))\n",
        "\n",
        "ax.plot(Date_Month_Hotel, Average_Distributed_Rate, color='orange', marker='o')\n",
        "ax.axhline(y=Overall_Average_Rate, color='gray', linestyle='--')\n",
        "ax.set_xlabel('Date Month of the Resort Hotel')\n",
        "ax.set_ylabel('ADR')\n",
        "ax.set_title('ADR per month for the resort hotel')\n",
        "ax.tick_params(axis='x', rotation=45)\n",
        "\n",
        "for i, rate in enumerate(Average_Distributed_Rate):\n",
        "    ax.text(i, rate + 1, f'{rate:.2f}', ha='center', va='center')\n",
        "\n",
        "plt.show()\n"
      ],
      "metadata": {
        "id": "QJOB90wyFP-H"
      },
      "execution_count": null,
      "outputs": []
    },
    {
      "cell_type": "code",
      "source": [],
      "metadata": {
        "id": "w_QU306zGLcn"
      },
      "execution_count": null,
      "outputs": []
    },
    {
      "cell_type": "markdown",
      "source": [
        "##### 1. Why did you pick the specific chart?"
      ],
      "metadata": {
        "id": "iky9q4vBYrdO"
      }
    },
    {
      "cell_type": "markdown",
      "source": [
        "I picked this chart because it shows the Average Daily Rate (ADR) per month for a resort hotel, which is a key metric for the hospitality industry. The chart also includes a horizontal line representing the overall average rate, which provides a benchmark for comparison. Additionally, the chart displays the ADR values for each month, making it easy to see the seasonal trends and identify the months with the highest and lowest rates."
      ],
      "metadata": {
        "id": "aJRCwT6DYrdO"
      }
    },
    {
      "cell_type": "markdown",
      "source": [
        "##### 2. What is/are the insight(s) found from the chart?"
      ],
      "metadata": {
        "id": "F6T5p64dYrdO"
      }
    },
    {
      "cell_type": "markdown",
      "source": [
        "The line chart with a horizontal line representing the average ADR for the resort hotel shows the trend and variability of ADR over time. The chart can help to identify patterns and insights related to the ADR of the resort hotel.\n",
        "\n",
        "For example, from the chart, we can see that the ADR for the resort hotel is highest in August and lowest in January. We can also see that the ADR fluctuates throughout the year, with peaks and valleys that are somewhat predictable. By including the horizontal line representing the average ADR, we can see how each month compares to the overall average, and identify months where the ADR is higher or lower than average.\n",
        "\n",
        "Overall, the chart provides insight into the seasonality and variability of ADR for the resort hotel, which can help to inform decisions related to pricing, marketing, and operations."
      ],
      "metadata": {
        "id": "Xx8WAJvtYrdO"
      }
    },
    {
      "cell_type": "markdown",
      "source": [
        "##### 3. Will the gained insights help creating a positive business impact? \n",
        "Are there any insights that lead to negative growth? Justify with specific reason."
      ],
      "metadata": {
        "id": "y-Ehk30pYrdP"
      }
    },
    {
      "cell_type": "markdown",
      "source": [
        "The insights gained from the line chart with a horizontal line representing the average ADR for the resort hotel have the potential to create a positive business impact.\n",
        "\n",
        "For example, by identifying the months with the highest and lowest ADR values, the resort hotel can adjust their pricing strategies to maximize revenue during peak months and attract more guests during slower months. They can also use the insights to adjust their marketing efforts, focusing on the months with lower ADR values to attract more guests and generate more revenue.\n",
        "\n",
        "However, there may be insights that lead to negative growth as well. For example, if the chart shows that the ADR for the resort hotel is consistently lower than the average, this may indicate that the hotel is not pricing their rooms competitively or providing sufficient value to guests. In this case, the hotel may need to adjust their pricing or improve their amenities and services in order to increase guest satisfaction and revenue.\n",
        "\n",
        "Overall, while the insights gained from the chart have the potential to create a positive business impact, it is important for the hotel to carefully evaluate the insights and take action to address any negative trends or areas for improvement."
      ],
      "metadata": {
        "id": "jLNxxz7MYrdP"
      }
    },
    {
      "cell_type": "markdown",
      "source": [
        "#### Chart - 5\n",
        "## hotel wise analysis\n"
      ],
      "metadata": {
        "id": "bamQiAODYuh1"
      }
    },
    {
      "cell_type": "code",
      "source": [
        "# Chart - 5 visualization code\n",
        "grouped_by_hotel = ds.groupby('hotel')\n",
        "d1 = pd.DataFrame((grouped_by_hotel.size()/ds.shape[0])*100).reset_index().rename(columns = {0:'Booking %'})\n",
        "\n",
        "plt.figure(figsize=(8, 6))\n",
        "colors = ['#F5B7B1', '#85C1E9']\n",
        "labels = d1['hotel']\n",
        "sizes = d1['Booking %']\n",
        "explode = (0.05, 0)\n",
        "\n",
        "plt.pie(sizes, explode=explode, labels=labels, colors=colors,\n",
        "        autopct='%1.1f%%', startangle=90, textprops={'fontsize': 14})\n",
        "\n",
        "# draw circle\n",
        "centre_circle = plt.Circle((0, 0), 0.70, fc='white')\n",
        "fig = plt.gcf()\n",
        "fig.gca().add_artist(centre_circle)\n",
        "\n",
        "# add title\n",
        "plt.title('Percentage of Bookings by Hotel', fontsize=18, fontweight='bold')\n",
        "\n",
        "plt.axis('equal')\n",
        "plt.show()\n"
      ],
      "metadata": {
        "id": "TIJwrbroYuh3"
      },
      "execution_count": null,
      "outputs": []
    },
    {
      "cell_type": "markdown",
      "source": [
        "Now we are supposed to find revenue by hotel "
      ],
      "metadata": {
        "id": "HSjO0tsaIf2h"
      }
    },
    {
      "cell_type": "code",
      "source": [
        "# Chart - 2 visualization code\n",
        "# Get total stay duration from stays in week and weekends\n",
        "ds['Total_stay_duration'] = ds['stays_in_weekend_nights'] + ds['stays_in_week_nights']\n",
        "\n",
        "# Get revenue by multiplyig total stay duarion with adr\n",
        "ds['revenue'] = ds['Total_stay_duration']*ds['adr']\n",
        "\n",
        "# Group and sum the revenue column by hotel column\n",
        "# Grouping returns a multi-index pandas series. Use pd.DataFrame to convert to a dataframe\n",
        "group_1 = pd.DataFrame(ds[['hotel','revenue']].groupby(['hotel']).sum())\n",
        "\n",
        "# Plot the data using sns.barplot()\n",
        "sns.barplot(data = group_1, x=group_1.index,y='revenue')\n",
        "\n",
        "# Add value count labels on top of each bar\n",
        "for idx,y in enumerate(group_1.values):\n",
        "  \n",
        "  #plt.text(x_co-ord, y_co-ord, value, ha(horrizontal alignment))\n",
        "  plt.text(idx,y+(10**5),str((y/10**6).round(2))+' M', ha ='center') \n",
        "plt.show()"
      ],
      "metadata": {
        "id": "zwPazTS-ORSv"
      },
      "execution_count": null,
      "outputs": []
    },
    {
      "cell_type": "markdown",
      "source": [
        "Q4) What is preferred stay length in each hotel?\n",
        "\n"
      ],
      "metadata": {
        "id": "zO6BsKeuOtoq"
      }
    },
    {
      "cell_type": "code",
      "source": [
        "d3 = grouped_by_hotel['adr'].agg(np.mean).reset_index().rename(columns = {'adr':'avg_adr'})   # calculating average adr\n",
        "\n",
        "not_canceled = ds[ds['is_canceled'] == 0]\n",
        "s1 = not_canceled[not_canceled['total_stay'] < 15]\n",
        "plt.figure(figsize = (10,5))\n",
        "sns.countplot(x = s1['total_stay'], hue = s1['hotel'])\n",
        "plt.show()\n"
      ],
      "metadata": {
        "id": "3nq2fLlZOvNn"
      },
      "execution_count": null,
      "outputs": []
    },
    {
      "cell_type": "markdown",
      "source": [
        "Q6) Which hotel has higher bookings cancellation rate.\n",
        "\n"
      ],
      "metadata": {
        "id": "4jDItwPRRRbN"
      }
    },
    {
      "cell_type": "code",
      "source": [
        "# Selecting and counting number of cancelled bookings for each hotel.\n",
        "cancelled_data = ds[ds['is_canceled'] == 1]\n",
        "cancel_grp = cancelled_data.groupby('hotel')\n",
        "D1 = pd.DataFrame(cancel_grp.size()).rename(columns = {0:'total_cancelled_bookings'})\n",
        "\n",
        "# Counting total number of bookings for each type of hotel\n",
        "grouped_by_hotel = ds.groupby('hotel')\n",
        "total_booking = grouped_by_hotel.size()\n",
        "D2 = pd.DataFrame(total_booking).rename(columns = {0: 'total_bookings'})\n",
        "D3 = pd.concat([D1,D2], axis = 1)\n",
        "\n",
        "# Calculating cancel percentage \n",
        "D3['cancel_%'] = round((D3['total_cancelled_bookings']/D3['total_bookings'])*100,2)\n",
        "D3.T"
      ],
      "metadata": {
        "id": "rAJn_4N6RTPZ"
      },
      "execution_count": null,
      "outputs": []
    },
    {
      "cell_type": "code",
      "source": [
        "\n",
        "# Selecting and counting number of cancelled bookings for each hotel.\n",
        "cancelled_data = df1[df1['is_canceled'] == 1]\n",
        "cancel_grp = cancelled_data.groupby('hotel')\n",
        "D1 = pd.DataFrame(cancel_grp.size()).rename(columns = {0:'total_cancelled_bookings'})\n",
        "\n",
        "# Counting total number of bookings for each type of hotel\n",
        "grouped_by_hotel = df1.groupby('hotel')\n",
        "total_booking = grouped_by_hotel.size()\n",
        "D2 = pd.DataFrame(total_booking).rename(columns = {0: 'total_bookings'})\n",
        "D3 = pd.concat([D1,D2], axis = 1)\n",
        "\n",
        "# Calculating cancel percentage \n",
        "D3['cancel_%'] = round((D3['total_cancelled_bookings']/D3['total_bookings'])*100,2)\n",
        "\n",
        "# Create subplots with 1 row and 2 columns\n",
        "fig, axs = plt.subplots(ncols=2, figsize=(12,6))\n",
        "\n",
        "# Plot the bar plot on the first axis\n",
        "sns.barplot(x = D3.index, y = D3['cancel_%'], ax=axs[0])\n",
        "axs[0].set(title='Cancellation Percentage by Hotel Type (Bar Plot)')\n",
        "\n",
        "# Create a list of colors for the pie chart\n",
        "colors = ['#FFC300', '#FF5733']\n",
        "\n",
        "# Plot the pie chart on the second axis\n",
        "axs[1].pie(D3['cancel_%'], labels=D3.index, colors=colors, autopct='%1.1f%%')\n",
        "axs[1].set(title='cancellation differrence in both hotel')\n",
        "axs[1].axis('equal')\n",
        "\n",
        "# Display the plots\n",
        "plt.show()\n"
      ],
      "metadata": {
        "id": "3pPkz_yBS8OH"
      },
      "execution_count": null,
      "outputs": []
    },
    {
      "cell_type": "markdown",
      "source": [
        "Q7) Which hotel has high chance that its customer will return for another stay?\n",
        "\n"
      ],
      "metadata": {
        "id": "yDB9Oc3gUBTF"
      }
    },
    {
      "cell_type": "code",
      "source": [
        "\n",
        "\n",
        "# Selecting and counting repeated customers bookings\n",
        "repeated_data = ds[ds['is_repeated_guest'] == 1]\n",
        "repeat_grp = repeated_data.groupby('hotel')\n",
        "D1 = pd.DataFrame(repeat_grp.size()).rename(columns = {0:'total_repeated_guests'})\n",
        "\n",
        "# Counting total bookings\n",
        "total_booking = grouped_by_hotel.size()\n",
        "D2 = pd.DataFrame(total_booking).rename(columns = {0: 'total_bookings'})\n",
        "D3 = pd.concat([D1,D2], axis = 1)\n",
        "\n",
        "# Calculating repeat %\n",
        "D3['repeat_%'] = round((D3['total_repeated_guests']/D3['total_bookings'])*100,2)\n",
        "\n",
        "# Create subplots\n",
        "fig, axs = plt.subplots(ncols=2, figsize=(15,5))\n",
        "\n",
        "# Plot the bar chart on the left\n",
        "sns.barplot(x=D3.index, y=D3['repeat_%'], ax=axs[0])\n",
        "axs[0].set(title='Repeat Percentage by Hotel Type')\n",
        "\n",
        "# create a list of colors for the pie chart\n",
        "colors = ['#FFC300', '#FF5733']\n",
        "\n",
        "# Plot the pie chart on the right\n",
        "axs[1].pie(D3['repeat_%'], labels=D3.index, colors=colors, autopct='%1.1f%%')\n",
        "axs[1].set(title='Repeat Percentage between   both hotel type')\n",
        "\n",
        "# Adjust the layout\n",
        "plt.tight_layout()\n",
        "\n",
        "# Display the plot\n",
        "plt.show()\n",
        "\n"
      ],
      "metadata": {
        "id": "rNonCobIVWIr"
      },
      "execution_count": null,
      "outputs": []
    },
    {
      "cell_type": "markdown",
      "source": [
        "#### Chart - 6\n",
        "## Distribution Channel wise Analysis\n"
      ],
      "metadata": {
        "id": "OH-pJp9IphqM"
      }
    },
    {
      "cell_type": "code",
      "source": [
        "group_by_dc = ds.groupby('distribution_channel')\n",
        "d1 = pd.DataFrame(round((group_by_dc.size()/ds.shape[0])*100,2)).reset_index().rename(columns = {0: 'Booking_%'})\n",
        "plt.figure(figsize = (8,8))\n",
        "data = d1['Booking_%']\n",
        "labels = d1['distribution_channel']\n",
        "plt.pie(x=data, autopct=\"%.2f%%\", explode=[0.05]*5, labels=labels, pctdistance=0.5)\n",
        "plt.title(\"Booking % by distribution channels\", fontsize=14);"
      ],
      "metadata": {
        "id": "kuRf4wtuphqN"
      },
      "execution_count": null,
      "outputs": []
    },
    {
      "cell_type": "markdown",
      "source": [
        "Q3) Which channel has longer average waiting time?"
      ],
      "metadata": {
        "id": "eT5P3T29YPwE"
      }
    },
    {
      "cell_type": "code",
      "source": [
        "d4 = pd.DataFrame(round((group_by_dc['days_in_waiting_list']).mean(),2)).reset_index().rename(columns = {'days_in_waiting_list': 'avg_waiting_time'})\n",
        "plt.figure(figsize = (7,5))\n",
        "sns.barplot(x = d4['distribution_channel'], y = d4['avg_waiting_time'])\n",
        "plt.show()"
      ],
      "metadata": {
        "id": "LPacN3KBYQqF"
      },
      "execution_count": null,
      "outputs": []
    },
    {
      "cell_type": "markdown",
      "source": [
        "##### 1. Why did you pick the specific chart?"
      ],
      "metadata": {
        "id": "bbFf2-_FphqN"
      }
    },
    {
      "cell_type": "markdown",
      "source": [
        "The first chart is a pie chart that shows the percentage of bookings made through different distribution channels, while the second chart is a bar chart that shows the average waiting time for each distribution channel."
      ],
      "metadata": {
        "id": "loh7H2nzphqN"
      }
    },
    {
      "cell_type": "markdown",
      "source": [
        "##### 2. What is/are the insight(s) found from the chart?"
      ],
      "metadata": {
        "id": "_ouA3fa0phqN"
      }
    },
    {
      "cell_type": "markdown",
      "source": [
        "The pie chart shows the distribution of bookings made through different channels, while the bar chart displays the average waiting time by distribution channel. The insights gained are that the majority of bookings are made through online travel agencies, and bookings made through direct channels have a significantly shorter waiting time."
      ],
      "metadata": {
        "id": "VECbqPI7phqN"
      }
    },
    {
      "cell_type": "markdown",
      "source": [
        "##### 3. Will the gained insights help creating a positive business impact? \n",
        "Are there any insights that lead to negative growth? Justify with specific reason."
      ],
      "metadata": {
        "id": "Seke61FWphqN"
      }
    },
    {
      "cell_type": "markdown",
      "source": [
        "The insight that a particular visualization provides may or may not create a positive business impact, depending on the action taken based on it. For example, insights about the most popular amenities among guests may lead to investing in those amenities and attracting more guests. On the other hand, insights about the highest cancellation rates by a particular customer segment may lead to negative growth if not addressed effectively. Therefore, it is important to take action based on insights to create a positive business impact."
      ],
      "metadata": {
        "id": "DW4_bGpfphqN"
      }
    },
    {
      "cell_type": "markdown",
      "source": [
        "#### Chart - 7\n",
        "## Booking cancellation Analysis"
      ],
      "metadata": {
        "id": "PIIx-8_IphqN"
      }
    },
    {
      "cell_type": "markdown",
      "source": [
        "Q1) Which significant distribution channel has highest cancellation percentage?"
      ],
      "metadata": {
        "id": "XrDP9nvKZojc"
      }
    },
    {
      "cell_type": "code",
      "source": [
        "# Chart - 7 visualization code\n",
        "group_by_dc = ds.groupby('distribution_channel')\n",
        "d1 = pd.DataFrame((group_by_dc['is_canceled'].sum()/group_by_dc.size())*100).drop(index = 'Undefined').rename(columns = {0: 'Cancel_%'})\n",
        "\n",
        "# Create pie chart\n",
        "plt.figure(figsize=(8,8))\n",
        "data = d1['Cancel_%']\n",
        "labels = d1.index\n",
        "plt.pie(x=data, autopct=\"%.2f%%\", explode=[0.05]*4, labels=labels, pctdistance=0.5)\n",
        "\n",
        "plt.title(\"Cancellation percentage by distribution channels\", fontsize=14)\n",
        "\n",
        "# Show plot\n",
        "plt.show()"
      ],
      "metadata": {
        "id": "lqAIGUfyphqO"
      },
      "execution_count": null,
      "outputs": []
    },
    {
      "cell_type": "markdown",
      "source": [
        "How does cancellation rate varies by Room Type?"
      ],
      "metadata": {
        "id": "64twMUL8aOsC"
      }
    },
    {
      "cell_type": "code",
      "source": [
        "# Set figure size\n",
        "plt.figure(figsize=[20,10])\n",
        "\n",
        "# Subplot for Cancelled Room Types\n",
        "plt.subplot(2, 3, 1)\n",
        "\n",
        "# Get percentage of cancelled rooms grouped by room type\n",
        "cancelled_rooms = (ds.groupby('reserved_room_type')['is_canceled'].sum() * 100 / len(ds)).round(2).sort_values(ascending=False)\n",
        "\n",
        "# PLot barplot for cancelled_rooms\n",
        "sns.barplot(x=cancelled_rooms.index, y=cancelled_rooms.values)\n",
        "plt.title('Cancellation % across Room Types')\n",
        "plt.ylabel('Cancellation Percentage (%)')\n",
        "\n",
        "# Add perentage values on top of bars\n",
        "for i, v in enumerate(cancelled_rooms.values):\n",
        "    plt.text(i, v, f'{v}%', ha='center')\n",
        "\n",
        "# Subplots for Room Type Distribution\n",
        "# Use for loop to plot booking percentage for two room types\n",
        "room_types = ['reserved_room_type', 'assigned_room_type']\n",
        "for i, col in enumerate(room_types):\n",
        "    plt.subplot(2, 3, i+2)\n",
        "    counts = (ds[col].value_counts() * 100 / len(ds)).round(1)\n",
        "    sns.barplot(x=counts.index, y=counts.values)\n",
        "    plt.title('Booking % for '+str(col))\n",
        "    plt.ylabel('Booking Percentage (%)')\n",
        "\n",
        "    # Show % value on top of bars\n",
        "    for j, val in enumerate(counts.values):\n",
        "        plt.text(j, val, f'{val}%', ha='center')\n",
        "        "
      ],
      "metadata": {
        "id": "StL6prHyaP5T"
      },
      "execution_count": null,
      "outputs": []
    },
    {
      "cell_type": "markdown",
      "source": [
        "##### 1. Why did you pick the specific chart?"
      ],
      "metadata": {
        "id": "t27r6nlMphqO"
      }
    },
    {
      "cell_type": "markdown",
      "source": [
        "we have taken this chart for analysis booking cancellation by room type"
      ],
      "metadata": {
        "id": "iv6ro40sphqO"
      }
    },
    {
      "cell_type": "markdown",
      "source": [
        "##### 2. What is/are the insight(s) found from the chart?"
      ],
      "metadata": {
        "id": "r2jJGEOYphqO"
      }
    },
    {
      "cell_type": "markdown",
      "source": [
        "Answer Here"
      ],
      "metadata": {
        "id": "Po6ZPi4hphqO"
      }
    },
    {
      "cell_type": "markdown",
      "source": [
        "##### 3. Will the gained insights help creating a positive business impact? \n",
        "Are there any insights that lead to negative growth? Justify with specific reason."
      ],
      "metadata": {
        "id": "b0JNsNcRphqO"
      }
    },
    {
      "cell_type": "markdown",
      "source": [
        "Answer Here"
      ],
      "metadata": {
        "id": "xvSq8iUTphqO"
      }
    },
    {
      "cell_type": "markdown",
      "source": [
        "#### Chart - 8\n",
        "## Is there any relationship between Deposit type and Cancellation Rate?"
      ],
      "metadata": {
        "id": "BZR9WyysphqO"
      }
    },
    {
      "cell_type": "code",
      "source": [
        "# Chart - 8 visualization code\n",
        "# Creating a new dataframe 'data' with the cancellation rate for each deposit type\n",
        "data = (ds.groupby('deposit_type')['is_canceled'].sum()/len(ds)).reset_index()\n",
        "\n",
        "# Creating a figure with a size of (10,5)\n",
        "plt.figure(figsize=(10,5))\n",
        "\n",
        "# First subplot\n",
        "plt.subplot(1,2,1)\n",
        "\n",
        "# Creating a bar plot of the cancellation rate for each deposit type\n",
        "sns.barplot(x= 'deposit_type',y='is_canceled', data = data)\n",
        "\n",
        "# Adding the percentage value of cancellation rate on top of each bar\n",
        "for idx,y in enumerate(data['is_canceled']):\n",
        "    plt.text(idx,y,'{:.1%}'.format(y), ha ='center')\n",
        "\n",
        "# Adding title to the subplot\n",
        "plt.title(\"Cancellation rate by deposit type\")\n",
        "\n",
        "# Second subplot\n",
        "plt.subplot(1,2,2)\n",
        "\n",
        "# Creating a new dataframe 'data' with the revenue for each deposit type as a percentage of total revenue\n",
        "data = (ds.groupby('deposit_type')['revenue'].sum()*100/sum(ds['revenue'])).reset_index()\n",
        "\n",
        "# Creating a bar plot of the revenue for each deposit type\n",
        "sns.barplot(x= 'deposit_type',y='revenue', data = data)\n",
        "\n",
        "# Adding the percentage value of revenue on top of each bar\n",
        "for idx,y in enumerate(data['revenue']):\n",
        "    plt.text(idx,y,'{:.3}%'.format(y), ha ='center')\n",
        "\n",
        "# Adding title to the subplot\n",
        "plt.title(\"Revenue by deposit type\")"
      ],
      "metadata": {
        "id": "TdPTWpAVphqO"
      },
      "execution_count": null,
      "outputs": []
    },
    {
      "cell_type": "markdown",
      "source": [
        "##### 1. Why did you pick the specific chart?"
      ],
      "metadata": {
        "id": "jj7wYXLtphqO"
      }
    },
    {
      "cell_type": "markdown",
      "source": [
        "I picked this specific chart because it provides insights on the impact of deposit type on the hotel's cancellation rate and revenue. Understanding the relationship between deposit type and cancellations/revenue can help hotels make informed decisions regarding their payment and cancellation policies, ultimately leading to improved revenue and profitability."
      ],
      "metadata": {
        "id": "Ob8u6rCTphqO"
      }
    },
    {
      "cell_type": "markdown",
      "source": [
        "##### 2. What is/are the insight(s) found from the chart?"
      ],
      "metadata": {
        "id": "eZrbJ2SmphqO"
      }
    },
    {
      "cell_type": "markdown",
      "source": [
        "From the first subplot, we can see that the highest cancellation rate is for the 'No Deposit' deposit type, which means that customers who did not make a deposit were more likely to cancel their reservations. The lowest cancellation rate is for the 'Non Refund' deposit type, which means that customers who paid for their reservations upfront were less likely to cancel.\n",
        "\n",
        "From the second subplot, we can see that the 'Non Refund' deposit type generated the highest revenue, followed by the 'Refundable' deposit type, and the 'No Deposit' deposit type generated the lowest revenue. This suggests that customers who were willing to pay upfront were more profitable for the hotel, and that the hotel could benefit from offering more refundable options to increase revenue."
      ],
      "metadata": {
        "id": "mZtgC_hjphqO"
      }
    },
    {
      "cell_type": "markdown",
      "source": [
        "##### 3. Will the gained insights help creating a positive business impact? \n",
        "Are there any insights that lead to negative growth? Justify with specific reason."
      ],
      "metadata": {
        "id": "rFu4xreNphqO"
      }
    },
    {
      "cell_type": "markdown",
      "source": [
        "The gained insights can help create a positive business impact as they provide information on the cancellation rate and revenue for different deposit types. By understanding the cancellation rate and revenue for each deposit type, hotels can optimize their revenue management strategies to increase their revenue and reduce cancellations.\n",
        "\n",
        "Hotels can focus on promoting non-refundable bookings to increase revenue, as these bookings have a lower cancellation rate and can help generate more revenue. Additionally, hotels can offer incentives to customers who choose non-refundable bookings, such as discounts or exclusive offers.\n",
        "\n",
        "However, hotels need to be careful when implementing non-refundable bookings, as this may lead to a negative impact on customer satisfaction. Customers who are forced to cancel their bookings due to unforeseen circumstances may have a negative experience and may not choose to book with the hotel in the future. Therefore, hotels need to find a balance between revenue optimization and customer satisfaction to ensure sustainable growth"
      ],
      "metadata": {
        "id": "ey_0qi68phqO"
      }
    },
    {
      "cell_type": "markdown",
      "source": [
        "#### Chart - 9\n",
        "\n",
        "## lets see which month results in high revenue."
      ],
      "metadata": {
        "id": "YJ55k-q6phqO"
      }
    },
    {
      "cell_type": "code",
      "source": [
        "data_resort = ds[(ds['hotel'] == 'Resort Hotel') & (ds['is_canceled'] == 0)]\n",
        "data_city = ds[(ds['hotel'] == 'City Hotel') & (ds['is_canceled'] == 0)]"
      ],
      "metadata": {
        "id": "yC7oHZqEfgET"
      },
      "execution_count": null,
      "outputs": []
    },
    {
      "cell_type": "code",
      "source": [
        "# Chart - 9 visualization code\n",
        "\n",
        "resort_hotel = data_resort.groupby(['arrival_date_month'])['adr'].mean().reset_index()\n",
        "city_hotel=data_city.groupby(['arrival_date_month'])['adr'].mean().reset_index()\n",
        "final_hotel = resort_hotel.merge(city_hotel, on = 'arrival_date_month')\n",
        "final_hotel.columns = ['month', 'price_for_resort', 'price_for_city_hotel']\n",
        "months = ['January', 'February', 'March', 'April', 'May', 'June', 'July', 'August', 'September', 'October', 'November', 'December']\n",
        "final_hotel['month'] = pd.Categorical(final_hotel['month'], categories=months, ordered=True)\n",
        "final_hotel = final_hotel.sort_values('month').reset_index()\n",
        "sns.lineplot(data=final_hotel, x='month', y='price_for_resort')\n",
        "sns.lineplot(data=final_hotel, x='month', y='price_for_city_hotel')\n",
        "plt.legend(['Resort','City Hotel'])\n",
        "plt.ylabel('adr')\n",
        "fig = plt.gcf()\n",
        "fig.set_size_inches(15,10)"
      ],
      "metadata": {
        "id": "B2aS4O1ophqO"
      },
      "execution_count": null,
      "outputs": []
    },
    {
      "cell_type": "markdown",
      "source": [
        "##### 1. Why did you pick the specific chart?"
      ],
      "metadata": {
        "id": "gCFgpxoyphqP"
      }
    },
    {
      "cell_type": "markdown",
      "source": [
        "This chart compares the average daily rate (ADR) between a resort hotel and a city hotel for each month. It was likely picked to show any seasonal patterns or trends in the ADR for each type of hotel."
      ],
      "metadata": {
        "id": "TVxDimi2phqP"
      }
    },
    {
      "cell_type": "markdown",
      "source": [
        "##### 2. What is/are the insight(s) found from the chart?"
      ],
      "metadata": {
        "id": "OVtJsKN_phqQ"
      }
    },
    {
      "cell_type": "markdown",
      "source": [
        "The chart shows the comparison of the average daily rate (ADR) of Resort and City hotels across different months. From the chart, it can be seen that the prices of both hotels vary with respect to the months, and that the Resort hotel has a higher average daily rate than the City hotel throughout the year. The prices of both hotels show a general trend of increasing during the summer months and decreasing during the winter months. This could indicate that there is a seasonal pattern in hotel prices. The chart also shows that the City hotel's prices are more stable throughout the year compared to the Resort hotel's prices, which fluctuate more. Overall, the chart gives insight into the pricing strategy and trends of Resort and City hotels and can help businesses in the hospitality industry to make informed decisions."
      ],
      "metadata": {
        "id": "ngGi97qjphqQ"
      }
    },
    {
      "cell_type": "markdown",
      "source": [
        "##### 3. Will the gained insights help creating a positive business impact? \n",
        "Are there any insights that lead to negative growth? Justify with specific reason."
      ],
      "metadata": {
        "id": "lssrdh5qphqQ"
      }
    },
    {
      "cell_type": "markdown",
      "source": [
        "The insights gained from the chart can be used to make informed decisions to create a positive business impact. For example, the chart shows that the prices for resort hotels are generally higher in the summer months, while prices for city hotels are higher during the fall and winter months. This information can be used to adjust pricing strategies for each hotel type based on the season.\n",
        "\n",
        "There do not appear to be any insights from this chart that would lead to negative growth.Answer Here"
      ],
      "metadata": {
        "id": "tBpY5ekJphqQ"
      }
    },
    {
      "cell_type": "markdown",
      "source": [
        "#### Chart - 10\n",
        "## cancellation rate by month to month"
      ],
      "metadata": {
        "id": "U2RJ9gkRphqQ"
      }
    },
    {
      "cell_type": "code",
      "source": [
        "# Chart - 10 visualization \n",
        "ds['total_guests'] = ds['adults'] + ds['children'] + ds['babies']\n",
        "\n",
        "# Create a pivot table to calculate cancellations by hotel and month\n",
        "hotel_cancel_month = pd.pivot_table(ds, values='is_canceled', index='hotel', columns=pd.Grouper(key='arrival_date_month', sort=True), aggfunc=np.sum)\n",
        "\n",
        "# Plot the pivot table as a heatmap\n",
        "plt.figure(figsize=(10, 6))\n",
        "sns.heatmap(hotel_cancel_month, annot=True, fmt='g', cmap='Reds')\n",
        "plt.title('Cancellation by Hotel and Month')\n",
        "plt.xlabel('Month')\n",
        "plt.ylabel('Hotel')\n",
        "plt.show()"
      ],
      "metadata": {
        "id": "GM7a4YP4phqQ"
      },
      "execution_count": null,
      "outputs": []
    },
    {
      "cell_type": "markdown",
      "source": [
        "##### 1. Why did you pick the specific chart?"
      ],
      "metadata": {
        "id": "1M8mcRywphqQ"
      }
    },
    {
      "cell_type": "markdown",
      "source": [
        "The specific chart is chosen to visualize the cancellation trend of each hotel over the months, allowing a comparison between hotels in terms of their cancellation rates. The heatmap allows easy interpretation of the cancellation rates for each hotel and month combination with the use of color, and the annotations provide actual numbers to compare between hotels and months."
      ],
      "metadata": {
        "id": "8agQvks0phqQ"
      }
    },
    {
      "cell_type": "markdown",
      "source": [
        "##### 2. What is/are the insight(s) found from the chart?"
      ],
      "metadata": {
        "id": "tgIPom80phqQ"
      }
    },
    {
      "cell_type": "markdown",
      "source": [
        "The heatmap shows the total number of cancellations by hotel and month. The chart reveals that August has the highest number of cancellations for both types of hotels. It also shows that the City Hotel has a higher number of cancellations compared to the Resort Hotel in every month. The plot can help the hotel managers to monitor and identify the months in which the cancellation rates are high and take measures to reduce them, such as implementing stricter cancellation policies during peak months."
      ],
      "metadata": {
        "id": "Qp13pnNzphqQ"
      }
    },
    {
      "cell_type": "markdown",
      "source": [
        "##### 3. Will the gained insights help creating a positive business impact? \n",
        "Are there any insights that lead to negative growth? Justify with specific reason."
      ],
      "metadata": {
        "id": "JMzcOPDDphqR"
      }
    },
    {
      "cell_type": "markdown",
      "source": [
        "The gained insights can be used to create a positive business impact. The visualization provides information on the number of cancellations by hotel and month, which can help hotel management to identify patterns in cancellations and take actions to reduce them. For example, if there are consistently high cancellations in a particular month, the hotel management can investigate the reasons for the cancellations and take steps to address them, such as offering incentives to guests who keep their reservations, or adjusting room rates.\n",
        "\n",
        "However, if there are negative trends in cancellations, such as increasing cancellations over time, this could lead to negative growth for the business. In such a scenario, hotel management may need to take steps to identify the root causes of the trend and develop strategies to mitigate the impact, such as improving customer service or implementing more flexible cancellation policies."
      ],
      "metadata": {
        "id": "R4Ka1PC2phqR"
      }
    },
    {
      "cell_type": "markdown",
      "source": [
        "#### Chart - 11\n",
        "##Market segmentation is a marketing technique that involves identifying specific customer groups so that items or product lines can be presented to them in a way that appeals to their preferences."
      ],
      "metadata": {
        "id": "x-EpHcCOp1ci"
      }
    },
    {
      "cell_type": "code",
      "source": [
        "# Chart - 11 visualization code\n",
        "ds['market_segment'].value_counts() #.reset_index()"
      ],
      "metadata": {
        "id": "mAQTIvtqp1cj"
      },
      "execution_count": null,
      "outputs": []
    },
    {
      "cell_type": "code",
      "source": [
        "# Special request acording to market segment.\n",
        "sns.boxplot(x=\"market_segment\", y=\"total_of_special_requests\",hue='market_segment',data= ds)\n",
        "fig= plt.gcf()\n",
        "fig.set_size_inches(12,10)"
      ],
      "metadata": {
        "id": "WDBytELrmzGP"
      },
      "execution_count": null,
      "outputs": []
    },
    {
      "cell_type": "markdown",
      "source": [
        "##### 1. Why did you pick the specific chart?"
      ],
      "metadata": {
        "id": "X_VqEhTip1ck"
      }
    },
    {
      "cell_type": "markdown",
      "source": [
        "The specific chart used in the example code is a boxplot with hue, which is used to visualize the distribution of the 'total_of_special_requests' variable across different categories of the 'market_segment' variable. The hue parameter allows us to differentiate between the different market segments by using different colors for each category. This chart is useful because it allows us to easily compare the distribution of the 'total_of_special_requests' variable across different market segments and identify any potential differences or outliers. "
      ],
      "metadata": {
        "id": "-vsMzt_np1ck"
      }
    },
    {
      "cell_type": "markdown",
      "source": [
        "##### 2. What is/are the insight(s) found from the chart?"
      ],
      "metadata": {
        "id": "8zGJKyg5p1ck"
      }
    },
    {
      "cell_type": "markdown",
      "source": [
        "The boxplot shows the distribution of the total number of special requests made by customers, grouped by the market segment. From the chart, we can see that the median number of special requests is higher for the Groups and Direct market segments compared to the other segments. We can also see that the range of values is wider for the Direct and Online TA segments, indicating that there is more variability in the number of special requests made by customers in these segments. This information can be useful for hotels to understand the needs and preferences of different market segments and adjust their offerings accordingly."
      ],
      "metadata": {
        "id": "ZYdMsrqVp1ck"
      }
    },
    {
      "cell_type": "markdown",
      "source": [
        "##### 3. Will the gained insights help creating a positive business impact? \n",
        "Are there any insights that lead to negative growth? Justify with specific reason."
      ],
      "metadata": {
        "id": "PVzmfK_Ep1ck"
      }
    },
    {
      "cell_type": "markdown",
      "source": [
        "The insights gained from the chart can help create a positive business impact by providing information on which market segments tend to have higher total special requests. This information can be used to tailor services and amenities for these market segments, potentially leading to higher customer satisfaction and loyalty.\n",
        "\n",
        "There are no insights from this specific chart that would lead to negative growth. However, it is important to note that correlation does not necessarily imply causation, and further analysis may be needed to identify any causal relationships between market segment and total special requests."
      ],
      "metadata": {
        "id": "druuKYZpp1ck"
      }
    },
    {
      "cell_type": "markdown",
      "source": [
        "#### Chart - 12 - Correlation Heatmap"
      ],
      "metadata": {
        "id": "NC_X3p0fY2L0"
      }
    },
    {
      "cell_type": "code",
      "source": [
        "# Correlation Heatmap visualization code\n",
        "# Droping number of day, month, year as their numerical correlation does not add value to our analysis\n",
        "df_3 = ds.drop(['arrival_date_day_of_month', 'arrival_date_year',\n",
        "                  'arrival_date_month', 'arrival_date_week_number'], axis=1)\n",
        "\n",
        "# ploting cluster map using sns.clstermap()\n",
        "sns.clustermap(df_3.corr(),cmap='RdBu',center=0,figsize=(11, 10))"
      ],
      "metadata": {
        "id": "xyC9zolEZNRQ"
      },
      "execution_count": null,
      "outputs": []
    },
    {
      "cell_type": "code",
      "source": [
        "#sorted correlation chart of numerical values\n",
        "\n",
        "mask = (df_3.corr() < 0.1)&(df_3.corr() > -0.1)\n",
        "sns.clustermap(df_3.corr(),cmap='RdBu',center=0,figsize=(11, 10),annot=True,mask=mask)\n",
        "plt.show()"
      ],
      "metadata": {
        "id": "5ZLkktEWQCqL"
      },
      "execution_count": null,
      "outputs": []
    },
    {
      "cell_type": "markdown",
      "source": [
        "##### 1. Why did you pick the specific chart?"
      ],
      "metadata": {
        "id": "UV0SzAkaZNRQ"
      }
    },
    {
      "cell_type": "markdown",
      "source": [
        "The correlation heatmap is a useful visualization for identifying correlations between numerical variables in a dataset. By using a clustermap, we can see patterns of correlation within the data, which can help identify relationships that may not be immediately apparent from a simple correlation matrix. The addition of an annotation mask helps to filter out correlations that are not significant, which can make it easier to focus on the most important relationships in the data. Overall, this chart is useful for identifying which variables are most strongly correlated with each other, which can be helpful for further analysis and modeling."
      ],
      "metadata": {
        "id": "DVPuT8LYZNRQ"
      }
    },
    {
      "cell_type": "markdown",
      "source": [
        "##### 2. What is/are the insight(s) found from the chart?"
      ],
      "metadata": {
        "id": "YPEH6qLeZNRQ"
      }
    },
    {
      "cell_type": "markdown",
      "source": [
        "From the correlation heatmap, we can see the numerical correlation values between different features of the dataset. Some of the insights we can gain from the heatmap are:\n",
        "\n",
        "There is a high positive correlation between the total number of bookings and the number of nights stayed, which is expected as guests who book more nights tend to make more bookings.\n",
        "There is a negative correlation between lead time and canceled bookings, which means that bookings made closer to the arrival date have a lower chance of being canceled.\n",
        "There is a positive correlation between the number of adults and the number of children, which suggests that families with children tend to make bookings with more adults.\n",
        "There is a positive correlation between the booking changes and the total of special requests, which suggests that guests who make more booking changes are more likely to have special requests.\n",
        "There is a negative correlation between the lead time and the total of special requests, which means that guests who book closer to the arrival date are less likely to have special requests.\n",
        "These insights can help us to understand the relationships between different features of the dataset and identify potential areas for further analysis or improvement."
      ],
      "metadata": {
        "id": "bfSqtnDqZNRR"
      }
    },
    {
      "cell_type": "markdown",
      "source": [
        "#### Chart - 13 - Pair Plot "
      ],
      "metadata": {
        "id": "q29F0dvdveiT"
      }
    },
    {
      "cell_type": "code",
      "source": [
        "# Pair Plot visualization code\n",
        "cols=df.columns\n",
        "sns.set_style(style='darkgrid')\n",
        "sns.pairplot(df[cols])"
      ],
      "metadata": {
        "id": "o58-TEIhveiU"
      },
      "execution_count": null,
      "outputs": []
    },
    {
      "cell_type": "code",
      "source": [
        "# Select relevant columns for pair plot visualization\n",
        "cols = ['is_canceled', 'lead_time', 'arrival_date_week_number', 'stays_in_weekend_nights', \n",
        "        'stays_in_week_nights', 'adults', 'children', 'babies', 'previous_cancellations', \n",
        "        'previous_bookings_not_canceled', 'booking_changes', 'days_in_waiting_list', \n",
        "        'adr', 'required_car_parking_spaces', 'total_of_special_requests']\n",
        "\n",
        "# Create pair plot using Seaborn library\n",
        "sns.pairplot(df[cols])"
      ],
      "metadata": {
        "id": "RVXqlKHsr3Es"
      },
      "execution_count": null,
      "outputs": []
    },
    {
      "cell_type": "markdown",
      "source": [
        "##### 1. Why did you pick the specific chart?"
      ],
      "metadata": {
        "id": "EXh0U9oCveiU"
      }
    },
    {
      "cell_type": "markdown",
      "source": [
        "Answer Here."
      ],
      "metadata": {
        "id": "eMmPjTByveiU"
      }
    },
    {
      "cell_type": "markdown",
      "source": [
        "##### 2. What is/are the insight(s) found from the chart?"
      ],
      "metadata": {
        "id": "22aHeOlLveiV"
      }
    },
    {
      "cell_type": "markdown",
      "source": [
        "Answer Here"
      ],
      "metadata": {
        "id": "uPQ8RGwHveiV"
      }
    },
    {
      "cell_type": "markdown",
      "source": [
        "## **5. Solution to Business Objective**"
      ],
      "metadata": {
        "id": "JcMwzZxoAimU"
      }
    },
    {
      "cell_type": "markdown",
      "source": [
        "#### What do you suggest the client to achieve Business Objective ? \n",
        "Explain Briefly."
      ],
      "metadata": {
        "id": "8G2x9gOozGDZ"
      }
    },
    {
      "cell_type": "markdown",
      "source": [
        "Based on the insights gained from the data visualization, here are some recommendations that the client could consider to achieve their business objectives:\n",
        "\n",
        "Pricing Strategy: Based on the ADR analysis, the client could consider adjusting their pricing strategy based on the trends in demand and supply. For instance, during peak seasons, the client could increase the prices of their rooms to maximize revenue, and during the low season, the client could reduce their prices to attract more bookings.\n",
        "\n",
        "Marketing Strategy: Based on the analysis of booking channels and top countries of origin, the client could focus on marketing their hotel to potential customers in those countries or through those channels to increase their bookings. The client could also consider offering promotions or packages to attract more customers.\n",
        "\n",
        "Customer Experience: Based on the analysis of the average waiting time, the client could improve the customer experience by reducing the waiting time for bookings. The client could consider improving their booking system, increasing their capacity or offering additional services to improve customer satisfaction.\n",
        "\n",
        "Capacity Planning: Based on the analysis of the number of stays and the length of stay, the client could plan their capacity more effectively by optimizing their room allocation to meet demand. The client could also consider offering discounts or promotions to encourage customers to stay longer.\n",
        "\n",
        "Overall, these recommendations could help the client optimize their revenue, attract more customers, and improve customer satisfaction to achieve their business objectives."
      ],
      "metadata": {
        "id": "pASKb0qOza21"
      }
    },
    {
      "cell_type": "markdown",
      "source": [
        "# **Conclusion**"
      ],
      "metadata": {
        "id": "gCX9965dhzqZ"
      }
    },
    {
      "cell_type": "markdown",
      "source": [
        "Based on the visualizations and insights gained from the hotel booking analysis project, we can make the following conclusions:\n",
        "\n",
        "The number of bookings tends to be higher during the summer months and drops during the winter months. The Resort Hotel tends to have higher bookings during the summer months while the City Hotel has a more consistent number of bookings throughout the year.\n",
        "The majority of bookings are made by online travel agencies and direct bookings, with travel agencies bringing in a smaller percentage of bookings.\n",
        "Guests from Portugal and other European countries make up the majority of bookings.\n",
        "Longer stays tend to be associated with the Resort Hotel while shorter stays are more common in the City Hotel.\n",
        "\n",
        "ADR  tends to be higher during the summer months for both hotels, with the Resort Hotel having a higher overall ADR than the City Hotel.\n",
        "Cancellations tend to be more common in the City Hotel, and guests who book through travel agencies tend to have higher cancellation rates.\n",
        "To achieve business objectives, the following actions can be taken:\n",
        "\n",
        "Increase marketing efforts during the winter months to boost bookings.\n",
        "Focus on improving direct booking channels to reduce dependence on online travel agencies.\n",
        "Develop marketing strategies to attract guests from non-European countries.\n",
        "Develop packages or incentives to encourage longer stays in the City Hotel.\n",
        "Explore ways to increase ADR during off-season months.\n",
        "Implement measures to reduce cancellation rates, especially for guests who book through travel agencies."
      ],
      "metadata": {
        "id": "Fjb1IsQkh3yE"
      }
    },
    {
      "cell_type": "markdown",
      "source": [
        "### ***Hurrah! You have successfully completed your EDA Capstone Project !!!***"
      ],
      "metadata": {
        "id": "gIfDvo9L0UH2"
      }
    }
  ]
}